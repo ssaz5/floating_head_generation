{
 "cells": [
  {
   "cell_type": "code",
   "execution_count": 1,
   "metadata": {},
   "outputs": [],
   "source": [
    "from src import detect_faces, show_bboxes\n",
    "from PIL import Image\n",
    "import matplotlib.pyplot as plt\n",
    "import torch\n",
    "import torchvision.transforms.functional as F\n",
    "import os\n",
    "import numpy as np"
   ]
  },
  {
   "cell_type": "code",
   "execution_count": null,
   "metadata": {},
   "outputs": [
    {
     "name": "stderr",
     "output_type": "stream",
     "text": [
      "/home/elisa_catherine3/Documents/deep-face-saliency/mtcnn-pytorch/src/first_stage.py:31: UserWarning: volatile was removed and now has no effect. Use `with torch.no_grad():` instead.\n",
      "  img = Variable(torch.FloatTensor(_preprocess(img)), volatile=True)\n",
      "/home/elisa_catherine3/Documents/deep-face-saliency/mtcnn-pytorch/src/get_nets.py:70: UserWarning: Implicit dimension choice for softmax has been deprecated. Change the call to include dim=X as an argument.\n",
      "  a = F.softmax(a)\n"
     ]
    }
   ],
   "source": [
    "image = Image.open('../img.jpg')\n",
    "bounding_boxes, landmarks = detect_faces(image)\n",
    "bounding_boxes"
   ]
  },
  {
   "cell_type": "code",
   "execution_count": null,
   "metadata": {},
   "outputs": [],
   "source": [
    "show_bboxes(image, bounding_boxes, landmarks)\n",
    "image.crop((bounding_boxes[0][0], bounding_boxes[0][1], bounding_boxes[0][2], bounding_boxes[0][3])).save('../data/test/n000001/crop_0005_01.jpg')"
   ]
  },
  {
   "cell_type": "code",
   "execution_count": null,
   "metadata": {},
   "outputs": [],
   "source": [
    "image = Image.open('../data/test/n000001/crop_0005_01.jpg')\n",
    "plt.imshow(image)"
   ]
  },
  {
   "cell_type": "code",
   "execution_count": null,
   "metadata": {},
   "outputs": [],
   "source": [
    "with open('../data/test_list.txt','r') as f:\n",
    "    for line in f:\n",
    "        filename = line.strip()\n",
    "        image = Image.open('../data/test/' + filename)\n",
    "        bounding_boxes, landmarks = detect_faces(image)\n",
    "        if isinstance(bounding_boxes, np.ndarray):\n",
    "            if bounding_boxes.shape[0] != 0:\n",
    "                image.crop((bounding_boxes[0][0], bounding_boxes[0][1], \\\n",
    "                         bounding_boxes[0][2], bounding_boxes[0][3])).save('../data/test/' + filename[:-4] + '_crop.jpg')\n",
    "                print(filename + ' cropped')"
   ]
  },
  {
   "cell_type": "code",
   "execution_count": 3,
   "metadata": {},
   "outputs": [
    {
     "name": "stdout",
     "output_type": "stream",
     "text": [
      "3141890\n"
     ]
    }
   ],
   "source": [
    "train_files = []\n",
    "with open('../data/train_list.txt','r') as f:\n",
    "    for line in f:\n",
    "        filename = line.strip()\n",
    "        train_files.append(filename)\n",
    "\n",
    "num_files = len(train_files)\n",
    "print(num_files)"
   ]
  },
  {
   "cell_type": "code",
   "execution_count": 7,
   "metadata": {},
   "outputs": [
    {
     "ename": "FileNotFoundError",
     "evalue": "[Errno 2] No such file or directory: '/data/crop_list.txt'",
     "output_type": "error",
     "traceback": [
      "\u001b[0;31m---------------------------------------------------------------------------\u001b[0m",
      "\u001b[0;31mFileNotFoundError\u001b[0m                         Traceback (most recent call last)",
      "\u001b[0;32m<ipython-input-7-8f54f029eb73>\u001b[0m in \u001b[0;36m<module>\u001b[0;34m\u001b[0m\n\u001b[1;32m      1\u001b[0m \u001b[0mi\u001b[0m \u001b[0;34m=\u001b[0m \u001b[0;36m0\u001b[0m\u001b[0;34m\u001b[0m\u001b[0m\n\u001b[0;32m----> 2\u001b[0;31m \u001b[0;32mwith\u001b[0m \u001b[0mopen\u001b[0m\u001b[0;34m(\u001b[0m\u001b[0;34m'/data/crop_list.txt'\u001b[0m\u001b[0;34m,\u001b[0m\u001b[0;34m'r'\u001b[0m\u001b[0;34m)\u001b[0m \u001b[0;32mas\u001b[0m \u001b[0mf\u001b[0m\u001b[0;34m:\u001b[0m\u001b[0;34m\u001b[0m\u001b[0m\n\u001b[0m\u001b[1;32m      3\u001b[0m     \u001b[0;32mfor\u001b[0m \u001b[0mline\u001b[0m \u001b[0;32min\u001b[0m \u001b[0mf\u001b[0m\u001b[0;34m:\u001b[0m\u001b[0;34m\u001b[0m\u001b[0m\n\u001b[1;32m      4\u001b[0m         \u001b[0;32mif\u001b[0m \u001b[0;34m(\u001b[0m\u001b[0mi\u001b[0m \u001b[0;34m%\u001b[0m \u001b[0;36m50000\u001b[0m\u001b[0;34m)\u001b[0m \u001b[0;34m==\u001b[0m \u001b[0;36m0\u001b[0m\u001b[0;34m:\u001b[0m\u001b[0;34m\u001b[0m\u001b[0m\n\u001b[1;32m      5\u001b[0m             \u001b[0mfilename\u001b[0m \u001b[0;34m=\u001b[0m \u001b[0mline\u001b[0m\u001b[0;34m.\u001b[0m\u001b[0mstrip\u001b[0m\u001b[0;34m(\u001b[0m\u001b[0;34m)\u001b[0m\u001b[0;34m\u001b[0m\u001b[0m\n",
      "\u001b[0;31mFileNotFoundError\u001b[0m: [Errno 2] No such file or directory: '/data/crop_list.txt'"
     ]
    }
   ],
   "source": [
    "i = 0\n",
    "with open('../data/train_list.txt','r') as f:\n",
    "    for line in f:\n",
    "        if i >= 2027580:\n",
    "            if (i % 10) == 0:\n",
    "                filename = line.strip()\n",
    "                image = Image.open('../data/train/' + filename)\n",
    "                bounding_boxes, landmarks = detect_faces(image)\n",
    "                if isinstance(bounding_boxes, np.ndarray):\n",
    "                    if bounding_boxes.shape[0] != 0:\n",
    "                        image.crop((bounding_boxes[0][0], bounding_boxes[0][1], \\\n",
    "                                 bounding_boxes[0][2], bounding_boxes[0][3])).save('../data/train/' + filename[:-4] + '_crop.jpg')\n",
    "                        #print(filename + ' cropped')\n",
    "                        print(str(i) + ' out of ' + str(num_files))\n",
    "        i += 1"
   ]
  }
 ],
 "metadata": {
  "kernelspec": {
   "display_name": "Python 3",
   "language": "python",
   "name": "python3"
  },
  "language_info": {
   "codemirror_mode": {
    "name": "ipython",
    "version": 3
   },
   "file_extension": ".py",
   "mimetype": "text/x-python",
   "name": "python",
   "nbconvert_exporter": "python",
   "pygments_lexer": "ipython3",
   "version": "3.7.3"
  }
 },
 "nbformat": 4,
 "nbformat_minor": 2
}
